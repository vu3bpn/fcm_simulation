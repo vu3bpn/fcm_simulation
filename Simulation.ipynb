{
 "cells": [
  {
   "cell_type": "raw",
   "id": "7ca40ee0-af33-44cf-88f0-345f1b6d17e6",
   "metadata": {},
   "source": [
    "! pip install fuzzywuzzy"
   ]
  },
  {
   "cell_type": "raw",
   "id": "66393734-6658-4ecd-966b-2039d6a765d3",
   "metadata": {},
   "source": [
    "! pip install pydot"
   ]
  },
  {
   "cell_type": "code",
   "execution_count": null,
   "id": "33ca5bef-e5de-4d2f-b28a-1a7dec0104fd",
   "metadata": {},
   "outputs": [],
   "source": [
    "import os\n",
    "from data_utilities import *\n",
    "from simulation_utils import *\n",
    "import pandas\n",
    "import pydot"
   ]
  },
  {
   "cell_type": "code",
   "execution_count": null,
   "id": "9adc1892-0168-45e7-a195-1d3cab6d927e",
   "metadata": {},
   "outputs": [],
   "source": [
    "data_dir = r\"/home/bipin/data/FCM/Kohima-20250820T005247Z-1-001/Kohima/Jotsoma\"\n",
    "data_dir = r\"/home/bipin/data/FCM/Kohima-20250820T005247Z-1-001/Kohima/Khonoma\"\n",
    "data_dir = r\"/home/bipin/data/FCM/Kohima-20250820T005247Z-1-001/Kohima/Kigwema\"\n",
    "data_dir = r\"/home/bipin/data/FCM/sample\"\n",
    "output_dir = r\"/home/bipin/data/FCM/output\""
   ]
  },
  {
   "cell_type": "code",
   "execution_count": null,
   "id": "da1e942d-5423-4788-a95f-b772a08694a2",
   "metadata": {},
   "outputs": [],
   "source": [
    "project_name = os.path.split(data_dir)[-1]\n",
    "filenames = os.listdir(data_dir)\n",
    "excel_filenames = list(filter(lambda x : x.endswith('.xlsx'),filenames))\n",
    "universal_filename = list(filter(lambda x: x.find(\"Universal\") > 0 , excel_filenames))\n",
    "for fn1 in universal_filename:\n",
    "    excel_filenames = excel_filenames.remove(fn1)\n",
    "excel_filenames = [os.path.join(data_dir,x) for x in excel_filenames]"
   ]
  },
  {
   "cell_type": "code",
   "execution_count": null,
   "id": "928ea422-7ff6-414a-8e18-3caf0bfa93a9",
   "metadata": {},
   "outputs": [],
   "source": []
  },
  {
   "cell_type": "code",
   "execution_count": null,
   "id": "8d5cdca0-b72b-43bb-8718-a7792b52e1d3",
   "metadata": {},
   "outputs": [],
   "source": [
    "merged_table = merge_tables(excel_filenames)\n",
    "merged_table.to_excel(os.path.join(output_dir,f\"{project_name}_combined.xlsx\"))\n",
    "result = simulate(output_dir,merged_table)\n",
    "#result_t = simulate(output_dir,merged_table.transpose())\n"
   ]
  },
  {
   "cell_type": "code",
   "execution_count": null,
   "id": "a1bebdb4-b000-40af-a5e0-2937204dcd9f",
   "metadata": {},
   "outputs": [],
   "source": [
    "result"
   ]
  },
  {
   "cell_type": "code",
   "execution_count": null,
   "id": "77d79b30-dd1f-4feb-a4b2-60427090a8e7",
   "metadata": {},
   "outputs": [],
   "source": [
    "merged_table.transpose()"
   ]
  },
  {
   "cell_type": "code",
   "execution_count": null,
   "id": "bcfa5297-4fa0-4d20-a886-3f30359d6162",
   "metadata": {},
   "outputs": [],
   "source": [
    "import networkx as nx\n",
    "import seaborn as sns\n",
    "import matplotlib.pyplot as plt"
   ]
  },
  {
   "cell_type": "code",
   "execution_count": null,
   "id": "d11ab6f3-bbba-43fd-8a23-6eb235504ae8",
   "metadata": {},
   "outputs": [],
   "source": [
    "excel_filenames"
   ]
  },
  {
   "cell_type": "code",
   "execution_count": null,
   "id": "8b2b4e16-5ad0-4538-b069-59a23604c6e7",
   "metadata": {},
   "outputs": [],
   "source": [
    "decimation = 10\n",
    "transform_mat = merged_table\n"
   ]
  },
  {
   "cell_type": "code",
   "execution_count": null,
   "id": "99de0409-0006-4789-8bcf-0d1aa2076835",
   "metadata": {},
   "outputs": [],
   "source": []
  }
 ],
 "metadata": {
  "kernelspec": {
   "display_name": "Python 3 (ipykernel)",
   "language": "python",
   "name": "python3"
  },
  "language_info": {
   "codemirror_mode": {
    "name": "ipython",
    "version": 3
   },
   "file_extension": ".py",
   "mimetype": "text/x-python",
   "name": "python",
   "nbconvert_exporter": "python",
   "pygments_lexer": "ipython3",
   "version": "3.11.2"
  }
 },
 "nbformat": 4,
 "nbformat_minor": 5
}
